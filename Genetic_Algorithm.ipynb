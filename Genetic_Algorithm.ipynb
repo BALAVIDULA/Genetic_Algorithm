{
  "nbformat": 4,
  "nbformat_minor": 0,
  "metadata": {
    "colab": {
      "provenance": []
    },
    "kernelspec": {
      "name": "python3",
      "display_name": "Python 3"
    },
    "language_info": {
      "name": "python"
    }
  },
  "cells": [
    {
      "cell_type": "markdown",
      "source": [
        "Implement Genetic Algorithm in Python"
      ],
      "metadata": {
        "id": "8C7VIbBzcy9V"
      }
    },
    {
      "cell_type": "code",
      "execution_count": 1,
      "metadata": {
        "colab": {
          "base_uri": "https://localhost:8080/"
        },
        "id": "NbHH5-5ochFT",
        "outputId": "101de99d-201e-496c-b49a-48d5b25455bf"
      },
      "outputs": [
        {
          "output_type": "stream",
          "name": "stdout",
          "text": [
            "Population :\n",
            "\n",
            " [[2, 2, 19, 24], [2, 5, 27, 27], [27, 10, 30, 27], [29, 19, 23, 3], [19, 18, 7, 29]]\n",
            "\n",
            "Generation 0 : [2, 2, 19, 24] (Fitness : 0.05882352595155729)\n",
            "\n",
            "Generation 1 : [1.9918224494853876, 1.9902041244817203, 18.997750327694167, 26.996748557146965] (Fitness : 0.05005875280980445)\n",
            "\n",
            "Generation 2 : [1.9926544527336614, 1.9861869667966816, 18.991870858252238, 26.987295337557395] (Fitness : 0.05010519933493701)\n",
            "\n",
            "Generation 3 : [1.985807959751658, 1.9791617211684975, 18.991859260494422, 26.985143899955418] (Fitness : 0.050145487500614476)\n",
            "\n",
            "Generation 4 : [1.9798414633992092, 1.9826592214360654, 18.998587967532657, 26.978940483827532] (Fitness : 0.050150375559602785)\n",
            "\n",
            "Generation 5 : [1.9859967052372918, 1.980394235849316, 18.985933873978514, 27.00486094150275] (Fitness : 0.05010726272183138)\n",
            "\n",
            "Generation 6 : [1.9790762885902804, 1.9754868919644417, 18.977681143532525, 27.01006805962518] (Fitness : 0.050144633712191806)\n",
            "\n",
            "Generation 7 : [1.982015709082231, 1.9722513730313784, 18.977574328861515, 27.009414585952825] (Fitness : 0.050147290120881295)\n",
            "\n",
            "Generation 8 : [1.9741326879347596, 1.9815995448711041, 18.974949199063992, 27.0033268463532] (Fitness : 0.05016552295340062)\n",
            "\n",
            "Generation 9 : [1.9806775983224594, 1.9715241019754643, 18.987474975492866, 27.01605296291426] (Fitness : 0.050110918918721735)\n",
            "\n",
            "Generation 10 : [1.9800877653457343, 1.961254508268831, 18.981613987699472, 27.0280733093425] (Fitness : 0.05012272405971721)\n",
            "\n",
            "Generation 11 : [1.9707552116547498, 1.95708449719291, 18.9828378809128, 26.99408470621244] (Fitness : 0.050239230938371335)\n",
            "\n",
            "Generation 12 : [1.971291414128194, 1.9563969372836927, 18.997681782298805, 26.997097579834463] (Fitness : 0.05019458252782228)\n",
            "\n",
            "Generation 13 : [1.9786216608135538, 1.9872488727161475, 18.98270920822088, 26.994107112604627] (Fitness : 0.05014369212932419)\n",
            "\n",
            "Generation 14 : [1.9756358812907886, 1.9813572640473873, 18.975171017669112, 27.023836677984807] (Fitness : 0.05011023791077612)\n",
            "\n",
            "Generation 15 : [1.971039294065666, 1.9859384526205717, 18.979638564186267, 27.003367191299127] (Fitness : 0.050150490332181136)\n",
            "\n",
            "Generation 16 : [1.9842617543516456, 1.977184450255006, 18.97420147159225, 27.0117667281682] (Fitness : 0.0501318080427136)\n",
            "\n",
            "Generation 17 : [1.975242545270083, 1.970772215696432, 18.970622141982247, 27.04024564534293] (Fitness : 0.05010802400987101)\n",
            "\n",
            "Generation 18 : [1.9749568048486013, 2.0102261250117532, 18.98927591956354, 26.99131974627276] (Fitness : 0.05008569764115477)\n",
            "\n",
            "Generation 19 : [1.9672600393820205, 2.0070111360115863, 18.98453220647003, 26.998287037066387] (Fitness : 0.05010750209078382)\n"
          ]
        }
      ],
      "source": [
        "#implement ga in python\n",
        "import random\n",
        "def generate_random_solution():\n",
        "    return [random.randint(0, 30) for _ in range(4)]\n",
        "\n",
        "\n",
        "def objective_function(solution):\n",
        "    return sum(solution) - 30\n",
        "\n",
        "\n",
        "def fitness(solution):\n",
        "    return 1 / abs(objective_function(solution) + 1e-6)\n",
        "\n",
        "\n",
        "def select_parents(population):\n",
        "    return random.choices(population, weights=[fitness(sol) for sol in population], k=2)\n",
        "\n",
        "\n",
        "def crossover(parent1, parent2, crossover_probability):\n",
        "    if random.uniform(0, 1) < crossover_probability:\n",
        "        split_point = random.randint(1, 3)\n",
        "        child1 = parent1[:split_point] + parent2[split_point:]\n",
        "        child2 = parent2[:split_point] + parent1[split_point:]\n",
        "        return child1, child2\n",
        "    else:\n",
        "        return parent1, parent2\n",
        "\n",
        "\n",
        "def mutate(solution, mutation_rate):\n",
        "    return [s + random.uniform(-mutation_rate, mutation_rate) for s in solution]\n",
        "\n",
        "\n",
        "def genetic_algorithm(population_size, mutation_rate, crossover_probability, max_generations):\n",
        "    population = [generate_random_solution() for _ in range(population_size)]\n",
        "    print(\"Population :\\n\\n\", population)\n",
        "    for generation in range(max_generations):\n",
        "        fitness_scores = [fitness(sol) for sol in population]\n",
        "        best_index = fitness_scores.index(max(fitness_scores))\n",
        "        print(f\"\\nGeneration {generation} : {population[best_index]} (Fitness : {fitness_scores[best_index]})\")\n",
        "        if abs(objective_function(population[best_index])) < 1e-6:\n",
        "            print(\"\\nSolution found !\")\n",
        "            break\n",
        "        new_population = []\n",
        "        for _ in range(population_size // 2):\n",
        "            parent1, parent2 = select_parents(population)\n",
        "            child1, child2 = crossover(parent1, parent2, crossover_probability)\n",
        "            new_population.extend([mutate(child1, mutation_rate), mutate(child2, mutation_rate)])\n",
        "        population = new_population\n",
        "\n",
        "population_size = 5\n",
        "mutation_rate = 0.01\n",
        "crossover_probability = 0.8\n",
        "max_generations = 20\n",
        "\n",
        "if __name__ == \"__main__\":\n",
        "    genetic_algorithm(population_size, mutation_rate, crossover_probability, max_generations)"
      ]
    },
    {
      "cell_type": "code",
      "source": [],
      "metadata": {
        "id": "MAG_zDX_c4an"
      },
      "execution_count": null,
      "outputs": []
    }
  ]
}